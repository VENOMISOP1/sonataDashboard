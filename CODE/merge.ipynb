{
 "cells": [
  {
   "cell_type": "code",
   "execution_count": 1,
   "id": "033f6c69-e5e6-421d-9982-8624a21e1dd0",
   "metadata": {},
   "outputs": [],
   "source": [
    "import pandas as pd\n",
    "import numpy as np\n",
    "import re"
   ]
  },
  {
   "cell_type": "code",
   "execution_count": 2,
   "id": "1bb6f9a9-8d61-421a-a889-0377e8a4d95e",
   "metadata": {},
   "outputs": [],
   "source": [
    "df1=pd.read_csv(r'S:\\sonata\\asssignment1\\KOTAK\\Final Files\\PSF\\ACCOUNT-PSF.csv')\n",
    "df2=pd.read_csv(r'S:\\sonata\\asssignment1\\KOTAK\\Final Files\\PSF\\Summary-PSF.csv')"
   ]
  },
  {
   "cell_type": "code",
   "execution_count": 28,
   "id": "2f5a6ab8-a1d6-474e-8d51-29ec6922512f",
   "metadata": {},
   "outputs": [],
   "source": [
    "n=(~df3['CREDIT-GRANTOR'].str.upper().str.startswith('KOTAK'))&(df3['ACCT-TYPE'].str.upper().str.startswith('JLG'))&(df3['ACCOUNT-STATUS'].isin(['ACTIVE','Active','active'] ))&(df3['SELF-INDICATOR'].isin(['True','TRUE','true']))\n",
    "df3['own_mfi']=df3['CREDIT-GRANTOR'].where(n)\n",
    "final=df3.groupby(['LOS-APP-ID'])['CREDIT-GRANTOR'].nunique().reset_index().rename(columns={'own_mfi':'NO_OwnMFIAssociation'})"
   ]
  },
  {
   "cell_type": "code",
   "execution_count": 29,
   "id": "cd281b0a-13e7-4ca0-9960-733f682d1d21",
   "metadata": {},
   "outputs": [
    {
     "data": {
      "text/html": [
       "<div>\n",
       "<style scoped>\n",
       "    .dataframe tbody tr th:only-of-type {\n",
       "        vertical-align: middle;\n",
       "    }\n",
       "\n",
       "    .dataframe tbody tr th {\n",
       "        vertical-align: top;\n",
       "    }\n",
       "\n",
       "    .dataframe thead th {\n",
       "        text-align: right;\n",
       "    }\n",
       "</style>\n",
       "<table border=\"1\" class=\"dataframe\">\n",
       "  <thead>\n",
       "    <tr style=\"text-align: right;\">\n",
       "      <th></th>\n",
       "      <th>LOS-APP-ID</th>\n",
       "      <th>CREDIT-GRANTOR</th>\n",
       "    </tr>\n",
       "  </thead>\n",
       "  <tbody>\n",
       "    <tr>\n",
       "      <th>0</th>\n",
       "      <td>SFAC5597054</td>\n",
       "      <td>6</td>\n",
       "    </tr>\n",
       "    <tr>\n",
       "      <th>1</th>\n",
       "      <td>SFAC5644833</td>\n",
       "      <td>6</td>\n",
       "    </tr>\n",
       "    <tr>\n",
       "      <th>2</th>\n",
       "      <td>SFAC5651607</td>\n",
       "      <td>5</td>\n",
       "    </tr>\n",
       "    <tr>\n",
       "      <th>3</th>\n",
       "      <td>SFAC5655880</td>\n",
       "      <td>1</td>\n",
       "    </tr>\n",
       "    <tr>\n",
       "      <th>4</th>\n",
       "      <td>SFAC5661942</td>\n",
       "      <td>4</td>\n",
       "    </tr>\n",
       "  </tbody>\n",
       "</table>\n",
       "</div>"
      ],
      "text/plain": [
       "    LOS-APP-ID  CREDIT-GRANTOR\n",
       "0  SFAC5597054               6\n",
       "1  SFAC5644833               6\n",
       "2  SFAC5651607               5\n",
       "3  SFAC5655880               1\n",
       "4  SFAC5661942               4"
      ]
     },
     "execution_count": 29,
     "metadata": {},
     "output_type": "execute_result"
    }
   ],
   "source": [
    "final.head()"
   ]
  },
  {
   "cell_type": "code",
   "execution_count": null,
   "id": "7b2a5f7a-9a49-4165-b972-a15589ed75f9",
   "metadata": {},
   "outputs": [],
   "source": [
    "\n",
    "df['NO_OtherMFIAssociation']=df3[\n",
    "    (df3['CREDIT-GRANTOR'].str.upper().str.startswith('KOTAK'))\n",
    "    &(df3['ACCT-TYPE'].str.upper().str.startswith('JLG'))\n",
    "    &(df3['ACCOUNT-STATUS'].isin(['ACTIVE','Active','active'] ))\n",
    "    &(df3['SELF-INDICATOR'].isin(['True','TRUE','true']))]    \n",
    "df['NO_OtherMFIAssociation']=df['NO_OtherMFIAssociation'].nunique()\n"
   ]
  },
  {
   "cell_type": "code",
   "execution_count": null,
   "id": "546f7972-f32f-46b7-80ec-dae82fbe27b4",
   "metadata": {},
   "outputs": [],
   "source": []
  }
 ],
 "metadata": {
  "kernelspec": {
   "display_name": "Python 3 (ipykernel)",
   "language": "python",
   "name": "python3"
  },
  "language_info": {
   "codemirror_mode": {
    "name": "ipython",
    "version": 3
   },
   "file_extension": ".py",
   "mimetype": "text/x-python",
   "name": "python",
   "nbconvert_exporter": "python",
   "pygments_lexer": "ipython3",
   "version": "3.12.7"
  }
 },
 "nbformat": 4,
 "nbformat_minor": 5
}
