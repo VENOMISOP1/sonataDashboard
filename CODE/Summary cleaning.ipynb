{
 "cells": [
  {
   "cell_type": "code",
   "execution_count": 2,
   "id": "16811257-724f-4c92-b992-ed3792ec193a",
   "metadata": {},
   "outputs": [],
   "source": [
    "import pandas as pd\n",
    "import numpy as np"
   ]
  },
  {
   "cell_type": "code",
   "execution_count": 8,
   "id": "ebd4aa4b-e5e3-4253-b03d-210918491dae",
   "metadata": {},
   "outputs": [
    {
     "name": "stdout",
     "output_type": "stream",
     "text": [
      "1\n",
      "2\n",
      "3\n",
      "4\n",
      "5\n",
      "6\n",
      "7\n",
      "8\n",
      "done 8\n"
     ]
    }
   ],
   "source": [
    "i=0\n",
    "for df in pd.read_csv(r'S:\\sonata\\asssignment1\\KOTAK\\Final Files\\01Summary.csv',chunksize=50000,low_memory=False):\n",
    "    # print(df.columns)\n",
    "    # break\n",
    "    cols=['CREDT-RPT-ID','PERFORM_CNS SCORE',]\n",
    "    df=df[cols]\n",
    "    if i==0:\n",
    "        df.to_csv(r'S:\\sonata\\asssignment1\\KOTAK\\Final Files\\PSF\\Summary-PSF.csv',index=False)\n",
    "        i+=1\n",
    "    elif i!=0:\n",
    "        df.to_csv(r'S:\\sonata\\asssignment1\\KOTAK\\Final Files\\PSF\\Summary-PSF.csv',header=False,index=False,mode='a')\n",
    "        i+=1\n",
    "    print(i)\n",
    "print(\"done\",i)"
   ]
  },
  {
   "cell_type": "code",
   "execution_count": null,
   "id": "997473c3-1dd3-4253-b65d-3f3e2c0cf4d7",
   "metadata": {},
   "outputs": [],
   "source": []
  }
 ],
 "metadata": {
  "kernelspec": {
   "display_name": "Python 3 (ipykernel)",
   "language": "python",
   "name": "python3"
  },
  "language_info": {
   "codemirror_mode": {
    "name": "ipython",
    "version": 3
   },
   "file_extension": ".py",
   "mimetype": "text/x-python",
   "name": "python",
   "nbconvert_exporter": "python",
   "pygments_lexer": "ipython3",
   "version": "3.12.7"
  }
 },
 "nbformat": 4,
 "nbformat_minor": 5
}
