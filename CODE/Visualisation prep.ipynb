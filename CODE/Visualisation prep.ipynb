{
 "cells": [
  {
   "cell_type": "code",
   "execution_count": 1,
   "id": "dab4859e-70e0-4b4a-8a2e-e693c287597c",
   "metadata": {},
   "outputs": [],
   "source": [
    "import pandas as pd\n",
    "import numpy as np\n",
    "import re"
   ]
  },
  {
   "cell_type": "code",
   "execution_count": 2,
   "id": "bfc03f05-0872-4523-8058-ec033954cc39",
   "metadata": {},
   "outputs": [],
   "source": [
    "df=pd.read_csv(r'S:\\sonata\\asssignment1\\KOTAK\\Final Files\\PSF\\assignment-new-analysis.csv',low_memory=False)"
   ]
  },
  {
   "cell_type": "code",
   "execution_count": 10,
   "id": "6484d789-faf7-4627-83a4-a528c1b1f1fe",
   "metadata": {},
   "outputs": [],
   "source": [
    "ndf=df['Customer_EMI'].where(df['Customer_EMI']!=0.0)"
   ]
  },
  {
   "cell_type": "code",
   "execution_count": 13,
   "id": "85c9e8bd-81c0-49aa-8fc5-f02347ea022a",
   "metadata": {
    "panel-layout": {
     "height": 0,
     "visible": true,
     "width": 100
    }
   },
   "outputs": [],
   "source": [
    "ndf.dropna(inplace=True)"
   ]
  },
  {
   "cell_type": "code",
   "execution_count": 4,
   "id": "25f5dab0-2144-490f-bce7-f5fde7c1fd1f",
   "metadata": {},
   "outputs": [],
   "source": [
    "df2=df[['Max_Last_Payment_Date','Max_Disbursement_Date','Write_Off_Amount','NO_OtherMFIAssociation','Overdue_Amount','Score_rule','Customer_EMI','Housing_Loan','PERFORMANCE_SCORE','LOS-APP-ID']].copy()"
   ]
  },
  {
   "cell_type": "code",
   "execution_count": 5,
   "id": "7b61a463-c45b-4414-9415-6234b6547d66",
   "metadata": {},
   "outputs": [],
   "source": [
    "df2['rejected_Woff']=df['Overdue_Amount'].where((df['NO_OtherMFIAssociation']==1)&(df['Overdue_Amount']==1)&(df['Write_Off_Amount']==0)&(df['Score_rule']==1))"
   ]
  },
  {
   "cell_type": "code",
   "execution_count": 6,
   "id": "8ae2ec2c-eeb4-4912-a7ed-dbc80e42ff37",
   "metadata": {},
   "outputs": [],
   "source": [
    "df2['rejected_Overdue']=df['NO_OtherMFIAssociation'].where((df['NO_OtherMFIAssociation']==1)&(df['Overdue_Amount']==0)&(df['Write_Off_Amount']==1)&(df['Score_rule']==1))"
   ]
  },
  {
   "cell_type": "code",
   "execution_count": 7,
   "id": "ba2bd3fd-c5df-4527-aeb6-fe6e45657f3a",
   "metadata": {},
   "outputs": [],
   "source": [
    "df2['rejected_MFI']=df['Overdue_Amount'].where((df['NO_OtherMFIAssociation']==0)&(df['Overdue_Amount']==1)&(df['Write_Off_Amount']==1)&(df['Score_rule']==1))"
   ]
  },
  {
   "cell_type": "code",
   "execution_count": 8,
   "id": "37defc60-3651-4f24-9496-455d73d2ee00",
   "metadata": {},
   "outputs": [],
   "source": [
    "df2['rejected_performance']=df['NO_OtherMFIAssociation'].where((df['NO_OtherMFIAssociation']==1)&(df['Overdue_Amount']==1)&(df['Write_Off_Amount']==1)&(df['Score_rule']==0))"
   ]
  },
  {
   "cell_type": "code",
   "execution_count": 9,
   "id": "51aff1fd-d7ad-4173-8a0b-533a889828b7",
   "metadata": {},
   "outputs": [],
   "source": [
    "df2['HL_acc']=df['Housing_Loan'].apply(lambda x: 1 if x>0 else 0)"
   ]
  },
  {
   "cell_type": "code",
   "execution_count": 10,
   "id": "d186b86a-092c-4ca2-bc05-3646355edfa0",
   "metadata": {},
   "outputs": [],
   "source": [
    "df2['accepted_accs']=df['Overdue_Amount'].where((df['NO_OtherMFIAssociation']==1)&(df['Overdue_Amount']==1)&(df['Write_Off_Amount']==1)&(df['Score_rule']==1))"
   ]
  },
  {
   "cell_type": "code",
   "execution_count": 11,
   "id": "8611b2b0-b754-4c59-9ddc-11e8e5db84ee",
   "metadata": {},
   "outputs": [],
   "source": [
    "df2['rejected_accs']=df2['accepted_accs'].apply(lambda x: 0 if x>0 else 1)"
   ]
  },
  {
   "cell_type": "code",
   "execution_count": 12,
   "id": "7a665530-361f-4d3e-8476-8b72ffd4d7db",
   "metadata": {},
   "outputs": [],
   "source": [
    "df2['housing_loan_accounts']=df['Housing_Loan'].apply(lambda x: 1 if x>0 else 0)"
   ]
  },
  {
   "cell_type": "code",
   "execution_count": 13,
   "id": "c745659b-907e-4ea9-93e8-07bf9d34e8b9",
   "metadata": {},
   "outputs": [],
   "source": [
    "df2['600-650']=df2['PERFORMANCE_SCORE'].apply(lambda x:1 if 600<x<650 else 0)\n",
    "df2['650-700']=df2['PERFORMANCE_SCORE'].apply(lambda x:1 if 650<x<700 else 0)\n",
    "df2['700-750']=df2['PERFORMANCE_SCORE'].apply(lambda x:1 if 700<x<750 else 0)\n",
    "df2['750-800']=df2['PERFORMANCE_SCORE'].apply(lambda x:1 if 750<x<801 else 0)"
   ]
  },
  {
   "cell_type": "code",
   "execution_count": 15,
   "id": "25ba7371-f5ac-4e09-bbb1-66cd3ba688e0",
   "metadata": {},
   "outputs": [],
   "source": [
    "df2.fillna(0,inplace=True)\n",
    "df2['Max_Disbursement_Date']=pd.to_datetime(df2['Max_Disbursement_Date'],format='%Y-%m-%d',errors='coerce')\n",
    "df2['Max_Last_Payment_Date']=pd.to_datetime(df2['Max_Last_Payment_Date'],format='%Y-%m-%d',errors='coerce')"
   ]
  },
  {
   "cell_type": "code",
   "execution_count": 16,
   "id": "7044bbf4-f3c0-43f0-842e-2b55ec6e868d",
   "metadata": {
    "panel-layout": {
     "height": 0,
     "visible": true,
     "width": 100
    }
   },
   "outputs": [],
   "source": [
    "df2.to_csv(r'S:\\sonata\\asssignment1\\KOTAK\\Final Files\\PSF\\assignment-2-analysis.csv',index=False)"
   ]
  }
 ],
 "metadata": {
  "kernelspec": {
   "display_name": "Python 3 (ipykernel)",
   "language": "python",
   "name": "python3"
  },
  "language_info": {
   "codemirror_mode": {
    "name": "ipython",
    "version": 3
   },
   "file_extension": ".py",
   "mimetype": "text/x-python",
   "name": "python",
   "nbconvert_exporter": "python",
   "pygments_lexer": "ipython3",
   "version": "3.12.7"
  },
  "panel-cell-order": [
   "85c9e8bd-81c0-49aa-8fc5-f02347ea022a",
   "7044bbf4-f3c0-43f0-842e-2b55ec6e868d"
  ]
 },
 "nbformat": 4,
 "nbformat_minor": 5
}
