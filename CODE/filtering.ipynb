{
 "cells": [
  {
   "cell_type": "code",
   "execution_count": 1,
   "id": "8a0fc02e-6bcf-4b8f-99c4-7315608e1cd7",
   "metadata": {},
   "outputs": [],
   "source": [
    "import pandas as pd\n",
    "import numpy as np\n",
    "import re"
   ]
  },
  {
   "cell_type": "code",
   "execution_count": 2,
   "id": "2623d410-6ef9-49cc-bbb0-99642784b38d",
   "metadata": {},
   "outputs": [],
   "source": [
    "df=pd.read_csv(r'S:\\sonata\\asssignment1\\KOTAK\\Final Files\\PSF\\los-merged-Account-Summary.csv',low_memory=False)\n",
    "df2=df.copy()"
   ]
  },
  {
   "cell_type": "code",
   "execution_count": 8,
   "id": "ae149ee3-05fe-45a9-9443-8cf3fa25cb22",
   "metadata": {},
   "outputs": [],
   "source": [
    "n=df[['WRITE-OFF-AMT','OVERDUE-AMT']]\n",
    "n.to_csv(r'S:\\sonata\\asssignment1\\KOTAK\\Final Files\\PSF\\powerbi.csv',index=False)"
   ]
  },
  {
   "cell_type": "code",
   "execution_count": 3,
   "id": "9ed7538f-9e4b-4d56-8385-92332e82d53c",
   "metadata": {},
   "outputs": [],
   "source": [
    "df['LAST-PAYMENT-DATE'].astype(str).str.strip()\n",
    "df['LAST-PAYMENT-DATE']=pd.to_datetime(df['LAST-PAYMENT-DATE'], format='%Y-%m-%d', errors='coerce')"
   ]
  },
  {
   "cell_type": "code",
   "execution_count": 4,
   "id": "6594725d-e0a2-4af8-9f94-9b36b7ecf217",
   "metadata": {},
   "outputs": [],
   "source": [
    "like_kotak=df['CREDIT-GRANTOR'].str.strip().str.upper().str.startswith('KOTAK')\n",
    "not_kotak=(~df['CREDIT-GRANTOR'].str.strip().str.upper().str.startswith('KOTAK'))\n",
    "like_jlg=df['ACCT-TYPE'].str.strip().str.upper().str.startswith('JLG')\n",
    "acc_active=df['ACCOUNT-STATUS'].str.strip().str.upper()=='ACTIVE'\n",
    "is_primary=df['MATCH-TYPE'].str.strip().str.upper()=='PRIMARY'\n",
    "not_closed=df['ACCOUNT-STATUS'].str.strip().str.upper()!='CLOSED'\n",
    "house_loan=df['ACCT-TYPE'].str.strip().str.upper()=='HOUSING LOAN'"
   ]
  },
  {
   "cell_type": "code",
   "execution_count": 5,
   "id": "edd86646-1333-4c45-9468-46728164518b",
   "metadata": {},
   "outputs": [],
   "source": [
    "df['NO_OwnMFIAssociation']=df['CREDIT-GRANTOR'].where(like_kotak & like_jlg & acc_active)\n",
    "df['NO_OtherMFIAssociation']=df['CREDIT-GRANTOR'].where(not_kotak & like_jlg & acc_active)   \n",
    "df['Overdue_Filtered']=pd.to_numeric(df['OVERDUE-AMT'].where(not_kotak & like_jlg & acc_active& not_closed & is_primary))\n",
    "df['WriteOff_Amount']=pd.to_numeric(df['WRITE-OFF-AMT'].where(not_closed & not_kotak & like_jlg & is_primary))\n",
    "df['WriteOff_Accounts']=df['WRITE-OFF-DATE'].where(not_closed & like_jlg & is_primary & not_kotak)\n",
    "df['Housing_Loan_Installment']=pd.to_numeric(df['INSTALLMENT-AMT'].where(not_closed & house_loan &not_kotak).str.split('/').str[0])\n",
    "df['Disbursed_Filtered']=df['DISBURSED-DT'].where( like_jlg & acc_active & not_kotak)\n",
    "df['Last_Payment_Filtered']=df['LAST-PAYMENT-DATE'].where( like_jlg & acc_active & not_kotak)\n",
    "df['MFI_Association_Rule']=df['CREDIT-GRANTOR'].where(not_kotak & like_jlg & acc_active & is_primary)\n",
    "df['Overdue_Rule_Amount']=pd.to_numeric(df['OVERDUE-AMT'].where(not_kotak & like_jlg& not_closed & is_primary))\n",
    "df['Customer_EMI']=pd.to_numeric(df['INSTALLMENT-AMT'].where(not_closed&not_kotak&is_primary).str.split('/').str[0] , errors='coerce').fillna(0).astype(int)\n",
    "df['frequency']=df['INSTALLMENT-AMT'].where(not_closed&not_kotak&is_primary).str.split('/').str[1].str.strip().str.upper()"
   ]
  },
  {
   "cell_type": "code",
   "execution_count": 6,
   "id": "66db1130-11de-4401-a07e-c6ddaa5a5419",
   "metadata": {},
   "outputs": [],
   "source": [
    "freq_map={\n",
    "    'MONTHLY':1,\n",
    "    ' BIWEEKLY':2,\n",
    "    'QUARTERLY':0.33,\n",
    "    'DAILY':30,\n",
    "    'WEEKLY':4,\n",
    "    'HALF YEARLY':0.166666,\n",
    "    'HALF-YEARLY':0.166666,\n",
    "    'ANNUALLY':0.015,\n",
    "    'SEMI-ANNUALLY':0.015,\n",
    "    'YEARLY':0.015,\n",
    "    'OTHER':0.015\n",
    "}"
   ]
  },
  {
   "cell_type": "code",
   "execution_count": 7,
   "id": "56e2b43c-f76a-416e-a998-74ca3e254173",
   "metadata": {},
   "outputs": [],
   "source": [
    "df['customerEmi']=df['frequency'].map(freq_map).fillna(0)"
   ]
  },
  {
   "cell_type": "code",
   "execution_count": 17,
   "id": "c224355f-5e8e-4d7b-b1a9-c86aa403a759",
   "metadata": {},
   "outputs": [],
   "source": [
    "df['Disbursed_Filtered']=pd.to_datetime(df['Disbursed_Filtered'],format='%Y-%m-%d',errors='coerce')\n",
    "df['Last_Payment_Filtered']=pd.to_datetime(df['Last_Payment_Filtered'],format='%Y-%m-%d',errors='coerce')\n",
    "df['Customer_E']=df['customerEmi']*df['Customer_EMI']\n",
    "im1=df.groupby('LOS-APP-ID').agg(\n",
    "    NO_OwnMFIAssociation=('NO_OwnMFIAssociation','nunique'),\n",
    "    NO_OtherMFIAssociation=('NO_OtherMFIAssociation','nunique'),\n",
    "    Overdue_Amount=('Overdue_Filtered', 'sum'),\n",
    "    Write_Off_Amount=('WriteOff_Amount', 'sum'),\n",
    "    Write_Off_Accounts=('WriteOff_Accounts', 'nunique'),\n",
    "    Housing_Loan=('Housing_Loan_Installment', 'sum'),\n",
    "    Max_Disbursement_Date=('Disbursed_Filtered', 'max'),\n",
    "    Max_Last_Payment_Date=('Last_Payment_Filtered', 'max'),\n",
    "    MFI_AssociationRule_Rule=('MFI_Association_Rule', 'nunique'),\n",
    "    Overdue_Rule=('Overdue_Rule_Amount', 'sum'),\n",
    "    Customer_EMI=('Customer_E','sum'),\n",
    "    max_Overdue_Amount=('Overdue_Filtered', 'max'),\n",
    "    maxWrite_Off_Amount=('WriteOff_Amount', 'max')\n",
    ").reset_index()"
   ]
  },
  {
   "cell_type": "code",
   "execution_count": 18,
   "id": "9ba84e66-1d91-4cca-b016-d8d8bcf963a1",
   "metadata": {},
   "outputs": [],
   "source": [
    "im2=df2.groupby('LOS-APP-ID').agg(\n",
    "    PERFORMANCE_SCORE=('PERFORM_CNS SCORE','max')\n",
    ")"
   ]
  },
  {
   "cell_type": "code",
   "execution_count": 19,
   "id": "623f0cbe-d951-4ab5-a40c-7bc5d6b144b6",
   "metadata": {},
   "outputs": [],
   "source": [
    "im2['Score_rule']=im2['PERFORMANCE_SCORE'].apply(lambda x:1 if x>=645 else 0)"
   ]
  },
  {
   "cell_type": "code",
   "execution_count": 20,
   "id": "0a9eb737-830e-4d1f-8699-c1bbe0297407",
   "metadata": {},
   "outputs": [],
   "source": [
    "result=pd.merge(im1,im2 ,on='LOS-APP-ID')"
   ]
  },
  {
   "cell_type": "code",
   "execution_count": 21,
   "id": "966eeeb7-c59a-41b7-a21b-ea06cd50b1d1",
   "metadata": {},
   "outputs": [],
   "source": [
    "result['Overdue_Amount']=result['Overdue_Amount'].apply(lambda x: 1 if x==0 else 0)\n",
    "result['NO_OtherMFIAssociation']=result['NO_OtherMFIAssociation'].apply(lambda x: 1 if x<=3 else 0)\n",
    "result['Write_Off_Amount']=result['Write_Off_Amount'].apply(lambda x: 1 if x==0 else 0)"
   ]
  },
  {
   "cell_type": "code",
   "execution_count": 23,
   "id": "541ed73b-8914-4997-b7aa-a9a1c3176053",
   "metadata": {},
   "outputs": [],
   "source": [
    "final=result.where((result['NO_OtherMFIAssociation']==1)&(result['Write_Off_Amount']==1)&result['Overdue_Amount']==1)"
   ]
  },
  {
   "cell_type": "code",
   "execution_count": 24,
   "id": "becb2417-1a00-4d96-9f58-457074f8e320",
   "metadata": {},
   "outputs": [],
   "source": [
    "final.dropna(inplace=True)"
   ]
  },
  {
   "cell_type": "code",
   "execution_count": 25,
   "id": "261ff0a6-4ac2-4976-b0eb-1b26ac0c2a54",
   "metadata": {},
   "outputs": [],
   "source": [
    "result.to_csv(r'S:\\sonata\\asssignment1\\KOTAK\\Final Files\\PSF\\assignment-2-analysis.csv',index=False)"
   ]
  },
  {
   "cell_type": "code",
   "execution_count": null,
   "id": "013287a1-d7d1-42e0-b7b8-797fc3f4709c",
   "metadata": {},
   "outputs": [],
   "source": []
  },
  {
   "cell_type": "code",
   "execution_count": null,
   "id": "e91fd59b-9545-48ce-9b52-75efa04d4c1a",
   "metadata": {},
   "outputs": [],
   "source": []
  }
 ],
 "metadata": {
  "kernelspec": {
   "display_name": "Python 3 (ipykernel)",
   "language": "python",
   "name": "python3"
  },
  "language_info": {
   "codemirror_mode": {
    "name": "ipython",
    "version": 3
   },
   "file_extension": ".py",
   "mimetype": "text/x-python",
   "name": "python",
   "nbconvert_exporter": "python",
   "pygments_lexer": "ipython3",
   "version": "3.12.7"
  }
 },
 "nbformat": 4,
 "nbformat_minor": 5
}
